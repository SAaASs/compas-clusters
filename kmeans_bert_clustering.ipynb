{
 "cells": [
  {
   "cell_type": "code",
   "execution_count": 1,
   "id": "4bce03eb-cbdc-40ec-921a-0136beec2d71",
   "metadata": {},
   "outputs": [],
   "source": [
    "import gensim\n",
    "from gensim.corpora.dictionary import Dictionary\n",
    "from gensim.models import LdaModel\n",
    "from nltk.corpus import stopwords\n",
    "import nltk\n",
    "import matplotlib.pyplot as plt\n",
    "import os\n",
    "import re"
   ]
  },
  {
   "cell_type": "code",
   "execution_count": 2,
   "id": "96a02c79-97ac-414e-ab37-4d6be4847550",
   "metadata": {},
   "outputs": [],
   "source": [
    "stop_words = set(stopwords.words('russian'))\n",
    "folder_path = 'C:/Users/andre/Documents/docs'"
   ]
  },
  {
   "cell_type": "code",
   "execution_count": 3,
   "id": "d366871c-0586-4fc5-b35b-28dc2e828b07",
   "metadata": {},
   "outputs": [],
   "source": [
    "all_texts = []\n",
    "for filename in os.listdir(folder_path):\n",
    "    file_path = os.path.join(folder_path, filename)\n",
    "    if os.path.isfile(file_path):\n",
    "        with open(file_path, 'r', encoding='utf-8') as file:\n",
    "            text = file.read()\n",
    "            paragraphs = [paragraph.strip() for paragraph in re.split(r'\\n\\s*\\n', text) if paragraph.strip()]\n",
    "            texts = [[word for word in doc.lower().split() if word not in stop_words] for doc in paragraphs]\n",
    "            all_texts.extend(texts)\n",
    "texts = all_texts"
   ]
  },
  {
   "cell_type": "code",
   "execution_count": 4,
   "id": "2027bf7a-95ed-4089-a589-c85f32ad4b2b",
   "metadata": {},
   "outputs": [],
   "source": [
    "dictionary = Dictionary(texts)\n",
    "corpus = [dictionary.doc2bow(text) for text in texts]\n",
    "\n",
    "# Создание модели LDA\n",
    "lda = LdaModel(corpus=corpus, num_topics=8, id2word=dictionary, passes=10)"
   ]
  },
  {
   "cell_type": "code",
   "execution_count": 5,
   "id": "038a589d-ec99-4202-b2e0-bf888f05934a",
   "metadata": {},
   "outputs": [
    {
     "name": "stdout",
     "output_type": "stream",
     "text": [
      "Тема 1: 0.021*\"-\" + 0.009*\"году\" + 0.007*\"2035\" + 0.006*\"топливно-энергетического\" + 0.005*\"комплекса\" + 0.005*\"российской\" + 0.005*\"развития\" + 0.005*\"числе\" + 0.005*\"2024\" + 0.005*\"выбросов\"\n",
      "Тема 2: 0.010*\"развития\" + 0.009*\"российской\" + 0.007*\"проектов\" + 0.007*\"числе\" + 0.007*\"технологий\" + 0.006*\"деятельности\" + 0.006*\"научных\" + 0.005*\"государственной\" + 0.005*\"поддержки\" + 0.005*\"создание\"\n",
      "Тема 3: 0.036*\"российской\" + 0.023*\"федерации\" + 0.018*\"оао\" + 0.017*\"г.\" + 0.014*\"развития\" + 0.013*\"«ржд»\" + 0.011*\"стратегии\" + 0.010*\"экологической\" + 0.009*\"реализации\" + 0.008*\"период\"\n",
      "Тема 4: 0.011*\"развитие\" + 0.008*\"инфраструктуры\" + 0.007*\"транспортной\" + 0.007*\"систем\" + 0.007*\"повышение\" + 0.007*\"транспортных\" + 0.006*\"числе\" + 0.006*\"внедрение\" + 0.006*\"технологий\" + 0.006*\"также\"\n",
      "Тема 5: 0.021*\"-\" + 0.011*\"году\" + 0.007*\"процентов\" + 0.007*\"процента\" + 0.007*\"производства\" + 0.007*\"тыс.\" + 0.006*\"2022\" + 0.006*\"млрд.\" + 0.006*\"года\" + 0.006*\"2030\"\n",
      "Тема 6: 0.014*\"российской\" + 0.011*\"федерального\" + 0.008*\"№\" + 0.008*\"-\" + 0.007*\"государственной\" + 0.007*\"программы\" + 0.007*\"федерации\" + 0.007*\"исполнительной\" + 0.006*\"власти\" + 0.006*\"реализации\"\n",
      "Тема 7: 0.010*\"отходов\" + 0.010*\"воздействия\" + 0.008*\"окружающую\" + 0.008*\"снижению\" + 0.006*\"n\" + 0.006*\"объектов\" + 0.006*\"снижение\" + 0.006*\"сточных\" + 0.006*\"мероприятий\" + 0.006*\"негативного\"\n",
      "Тема 8: 0.017*\"железнодорожных\" + 0.011*\"необщего\" + 0.011*\"путей\" + 0.011*\"мм\" + 0.010*\"железнодорожного\" + 0.008*\"подвижного\" + 0.007*\"инфраструктуры\" + 0.006*\"нормативным\" + 0.006*\"актом\" + 0.006*\"локальным\"\n"
     ]
    }
   ],
   "source": [
    "for idx, topic in lda.print_topics(-1):\n",
    "    print(f\"Тема {idx + 1}: {topic}\")"
   ]
  },
  {
   "cell_type": "code",
   "execution_count": null,
   "id": "0bb5fa61-09ca-4491-a278-80aca62508bf",
   "metadata": {},
   "outputs": [],
   "source": []
  }
 ],
 "metadata": {
  "kernelspec": {
   "display_name": "Python 3 (ipykernel)",
   "language": "python",
   "name": "python3"
  },
  "language_info": {
   "codemirror_mode": {
    "name": "ipython",
    "version": 3
   },
   "file_extension": ".py",
   "mimetype": "text/x-python",
   "name": "python",
   "nbconvert_exporter": "python",
   "pygments_lexer": "ipython3",
   "version": "3.12.4"
  }
 },
 "nbformat": 4,
 "nbformat_minor": 5
}
