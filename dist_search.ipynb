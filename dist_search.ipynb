{
 "cells": [
  {
   "cell_type": "code",
   "execution_count": 1,
   "id": "ded29b9f-217e-49a0-bbd6-583619b711df",
   "metadata": {},
   "outputs": [
    {
     "name": "stderr",
     "output_type": "stream",
     "text": [
      "C:\\Users\\andre\\PycharmProjects\\pythonProject5\\.venv\\Lib\\site-packages\\tqdm\\auto.py:21: TqdmWarning: IProgress not found. Please update jupyter and ipywidgets. See https://ipywidgets.readthedocs.io/en/stable/user_install.html\n",
      "  from .autonotebook import tqdm as notebook_tqdm\n"
     ]
    }
   ],
   "source": [
    "import numpy as np\n",
    "import ast\n",
    "from sklearn.metrics import pairwise_distances_argmin_min\n",
    "from torch import cdist\n",
    "import os\n",
    "import torch\n",
    "import pandas as pd\n",
    "import re\n",
    "from transformers import LongformerModel, LongformerTokenizer\n",
    "from sklearn.metrics.pairwise import cosine_distances, euclidean_distances"
   ]
  },
  {
   "cell_type": "code",
   "execution_count": 2,
   "id": "e7089f7e-fd6c-4b32-80fa-ad81cd6597bd",
   "metadata": {},
   "outputs": [],
   "source": [
    "pd.set_option('display.max_columns', None)\n",
    "pd.set_option('display.max_colwidth', None)"
   ]
  },
  {
   "cell_type": "code",
   "execution_count": 3,
   "id": "e7fa0e30-9652-4406-8da0-4292b1659e2b",
   "metadata": {},
   "outputs": [
    {
     "name": "stderr",
     "output_type": "stream",
     "text": [
      "Input ids are automatically padded to be a multiple of `config.attention_window`: 512\n"
     ]
    },
    {
     "name": "stdout",
     "output_type": "stream",
     "text": [
      "17 = num fragments\n",
      "file В целях обеспечения технологической.txt is processed\n",
      "9 = num fragments\n",
      "file В целях обеспечения ускоренного раз.txt is processed\n",
      "19 = num fragments\n",
      "file В целях усиления роли науки и техно.txt is processed\n",
      "8 = num fragments\n",
      "file Внутриотраслевые приоритеты в рамка.txt is processed\n",
      "219 = num fragments\n",
      "file Государственная программа Российско.txt is processed\n",
      "1 = num fragments\n",
      "file ДОЛГОСРОЧНАЯ ПРОГРАММА.txt is processed\n",
      "1 = num fragments\n",
      "file К О Н Ц Е П Ц И Я развития водородн.txt is processed\n",
      "5 = num fragments\n",
      "file Комплексная программа инновационног.txt is processed\n",
      "2 = num fragments\n",
      "file Концепция технологического развития.txt is processed\n",
      "235 = num fragments\n",
      "file О системе управления реализацией национальной программы.txt is processed\n",
      "7 = num fragments\n",
      "file О Стратегии научно-технологического.txt is processed\n",
      "58 = num fragments\n",
      "file Об утверждении приоритетных направл.txt is processed\n",
      "36 = num fragments\n",
      "file Перечень поручений по вопросам разв.txt is processed\n",
      "887 = num fragments\n",
      "file Правила технической эксплуатации же.txt is processed\n",
      "7 = num fragments\n",
      "file РОССИЙСКОЙ ФЕДЕРАЦИИ ИНФОРМАЦИОННОЕ ОБЩЕСТВО.txt is processed\n",
      "33 = num fragments\n",
      "file С Т Р А Т Е Г И Я социально-экономи.txt is processed\n",
      "27 = num fragments\n",
      "file СВОДНАЯ СТРАТЕГИЯ развития обрабаты.txt is processed\n",
      "1 = num fragments\n",
      "file Стратегия развития транспортного машиностроения Российской Федерации.txt is processed\n",
      "264 = num fragments\n",
      "file Стратегия.txt is processed\n",
      "964 = num fragments\n",
      "file Транспортная стратегия РФ на период.txt is processed\n",
      "122 = num fragments\n",
      "file Указ о национальных целях развития.txt is processed\n",
      "468 = num fragments\n",
      "file Федеральный закон от 23.08.1996 г..txt is processed\n",
      "578 = num fragments\n",
      "file Федеральный закон от 28.06.2014 г..txt is processed\n",
      "312 = num fragments\n",
      "file Экологическая стратегия ОАО «РЖД» д.txt is processed\n",
      "79 = num fragments\n",
      "file ЭНЕРГЕТИЧЕСКАЯ СТРАТЕГИЯ Российской Федерации на период до 2035 года.txt is processed\n"
     ]
    }
   ],
   "source": [
    "device = torch.device(\"cuda\" if torch.cuda.is_available() else \"cpu\")\n",
    "\n",
    "# Инициализируем токенизатор и модель и перемещаем модель на GPU\n",
    "tokenizer = LongformerTokenizer.from_pretrained(\"allenai/longformer-base-4096\")\n",
    "model = LongformerModel.from_pretrained(\"allenai/longformer-base-4096\").to(device)\n",
    "\n",
    "folder_path = 'C:/Users/andre/Documents/docs'\n",
    "\n",
    "base_df = pd.DataFrame()\n",
    "for filename in os.listdir(folder_path):\n",
    "    file_path = os.path.join(folder_path, filename)\n",
    "    if os.path.isfile(file_path):\n",
    "        with open(file_path, 'r', encoding='utf-8') as file:\n",
    "            text = file.read()\n",
    "            paragraphs = [paragraph.strip() for paragraph in re.split(r'\\n\\s*\\n', text) if paragraph.strip()]\n",
    "            orfr = []\n",
    "            prfr = []\n",
    "            fln = []\n",
    "            for frag in paragraphs:\n",
    "                # Токенизация и перемещение входных данных на GPU\n",
    "                inputs = tokenizer(frag, return_tensors=\"pt\", truncation=True, max_length=4096).to(device)\n",
    "                with torch.no_grad():\n",
    "                    outputs = model(**inputs)\n",
    "                # Извлекаем эмбеддинги и вычисляем усреднённый эмбеддинг на GPU\n",
    "                embeddings = outputs.last_hidden_state\n",
    "                sentence_embedding = embeddings.mean(dim=1)\n",
    "\n",
    "                orfr.append(frag)\n",
    "                prfr.append(sentence_embedding.cpu().numpy())  # Перемещаем обратно на CPU для сохранения\n",
    "                fln.append(filename)\n",
    "\n",
    "            df = pd.DataFrame(data={'original fragment': orfr, 'processed fragment': prfr, 'file name': fln})\n",
    "            print(len(orfr), '= num fragments')\n",
    "            base_df = pd.concat([base_df, df], axis=0).reset_index(drop=True)\n",
    "            print(f'file {filename} is processed')"
   ]
  },
  {
   "cell_type": "code",
   "execution_count": 4,
   "id": "717abeaf-63bf-48f6-a262-e016aa395aea",
   "metadata": {},
   "outputs": [],
   "source": [
    "request = \"меры для повышения безопасности дорожного движения и снижения аварийности\"\n",
    "inputs = tokenizer(request, return_tensors=\"pt\", truncation=True, max_length=4096).to(device)\n",
    "with torch.no_grad():\n",
    "    outputs = model(**inputs)\n",
    "embeddings = outputs.last_hidden_state\n",
    "root_embedding = embeddings.mean(dim=1).cpu().numpy().squeeze()"
   ]
  },
  {
   "cell_type": "code",
   "execution_count": 5,
   "id": "18bbe10a-4097-4839-8bcc-d1980442f53c",
   "metadata": {},
   "outputs": [
    {
     "name": "stdout",
     "output_type": "stream",
     "text": [
      "(768,)\n"
     ]
    }
   ],
   "source": [
    "print(root_embedding.shape)\n"
   ]
  },
  {
   "cell_type": "code",
   "execution_count": 6,
   "id": "07fcd98b-f7e9-4251-885f-167b43863f4b",
   "metadata": {},
   "outputs": [],
   "source": [
    "cosine_distances_list = []\n",
    "euclidean_distances_list = []\n",
    "\n",
    "for embedding in base_df[\"processed fragment\"]:\n",
    "    embedding = np.array(embedding).squeeze()\n",
    "    # Косинусное расстояние\n",
    "    cos_dist = cosine_distances([embedding], [root_embedding])[0][0]\n",
    "    cosine_distances_list.append(cos_dist)\n",
    "    # Евклидово расстояние\n",
    "    euc_dist = euclidean_distances([embedding], [root_embedding])[0][0]\n",
    "    euclidean_distances_list.append(euc_dist)\n",
    "\n",
    "# Добавляем новые столбцы в датафрейм\n",
    "base_df[\"cosine_distance\"] = cosine_distances_list\n",
    "base_df[\"euclidean_distance\"] = euclidean_distances_list\n"
   ]
  },
  {
   "cell_type": "code",
   "execution_count": 7,
   "id": "839c02a1-dde3-44bd-9ac9-91a653224e0c",
   "metadata": {},
   "outputs": [],
   "source": [
    "base_df.to_excel('search_test_18_11.xlsx', index=False)"
   ]
  }
 ],
 "metadata": {
  "kernelspec": {
   "display_name": "Python 3 (ipykernel)",
   "language": "python",
   "name": "python3"
  },
  "language_info": {
   "codemirror_mode": {
    "name": "ipython",
    "version": 3
   },
   "file_extension": ".py",
   "mimetype": "text/x-python",
   "name": "python",
   "nbconvert_exporter": "python",
   "pygments_lexer": "ipython3",
   "version": "3.12.4"
  }
 },
 "nbformat": 4,
 "nbformat_minor": 5
}
